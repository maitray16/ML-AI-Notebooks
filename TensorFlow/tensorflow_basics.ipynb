{
 "cells": [
  {
   "cell_type": "code",
   "execution_count": 1,
   "metadata": {},
   "outputs": [],
   "source": [
    "import tensorflow as tf"
   ]
  },
  {
   "cell_type": "code",
   "execution_count": 20,
   "metadata": {},
   "outputs": [
    {
     "name": "stdout",
     "output_type": "stream",
     "text": [
      "1000\n",
      "110\n"
     ]
    }
   ],
   "source": [
    "# Constant Operations\n",
    "x = tf.constant(10)\n",
    "y = tf.constant(100)\n",
    "\n",
    "with tf.Session() as session:\n",
    "    print(session.run(x*y))\n",
    "    print(session.run(x+y))"
   ]
  },
  {
   "cell_type": "code",
   "execution_count": 18,
   "metadata": {},
   "outputs": [
    {
     "name": "stdout",
     "output_type": "stream",
     "text": [
      "15\n",
      "50\n"
     ]
    }
   ],
   "source": [
    "x = tf.placeholder(tf.int16)\n",
    "y = tf.placeholder(tf.int16)\n",
    "\n",
    "add = tf.add(x,y)\n",
    "mul = tf.multiply(x,y)\n",
    "\n",
    "with tf.Session() as session:\n",
    "    print(session.run(add, feed_dict={x:5, y:10}))\n",
    "    print(session.run(mul, feed_dict={x:5, y:10}))"
   ]
  }
 ],
 "metadata": {
  "kernelspec": {
   "display_name": "Python 3",
   "language": "python",
   "name": "python3"
  },
  "language_info": {
   "codemirror_mode": {
    "name": "ipython",
    "version": 3
   },
   "file_extension": ".py",
   "mimetype": "text/x-python",
   "name": "python",
   "nbconvert_exporter": "python",
   "pygments_lexer": "ipython3",
   "version": "3.6.5"
  }
 },
 "nbformat": 4,
 "nbformat_minor": 2
}
